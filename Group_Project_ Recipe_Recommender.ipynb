{
 "cells": [
  {
   "cell_type": "markdown",
   "id": "70796ec0",
   "metadata": {},
   "source": [
    "# Group_Assignment_Retail\n",
    "<img src=\"https://d26a57ydsghvgx.cloudfront.net/product/Customer%20Story%20Images/instacartlogo.png\"  width=300, height=100  align=\"right\" />\n",
    "\n",
    "**Authors**: \n",
    "- Isobel Rae Impas\n",
    "- Jan P. Thoma\n",
    "- Nikolas Artadi\n",
    "- Camila Vasquez\n",
    "- Santiago Alfonso Galeano\n",
    "- Miguel Frutos Soriano\n",
    "\n",
    "**Subject**: \n",
    "Analytics for Retail and Consumer Goods\n",
    "\n",
    "### STEPS\n",
    "1. [Chapter 1 - Obtain a retail database that contains information with a relationship between users products and orders.](#ch1)\n",
    "1. [Chapter 2 - Obtain a database of recipes that contains each recipe with a list of products. Products must be expressed in the same language.](#ch2)\n",
    "1. [Chapter 3 - Use products from both databases and put them into a single list.](#ch3)\n",
    "1. [Chapter 4 - Input this list into word2vec.](#ch4)\n",
    "1. [Chapter 5 - Extract vectors for each product.](#ch5)"
   ]
  },
  {
   "cell_type": "code",
   "execution_count": 172,
   "id": "f3091264",
   "metadata": {},
   "outputs": [
    {
     "name": "stderr",
     "output_type": "stream",
     "text": [
      "[nltk_data] Downloading package stopwords to\n",
      "[nltk_data]     /Users/miguelfrutossoriano/nltk_data...\n",
      "[nltk_data]   Package stopwords is already up-to-date!\n"
     ]
    }
   ],
   "source": [
    "import pandas as pd\n",
    "import numpy as np\n",
    "\n",
    "#Start by importing the libraries\n",
    "#!pip install gensim\n",
    "#!pip install annoy\n",
    "\n",
    "%matplotlib inline\n",
    "\n",
    "import pandas as pd\n",
    "import numpy as np\n",
    "import pandas as pd\n",
    "import matplotlib.pyplot as plt\n",
    "import seaborn as sns\n",
    "\n",
    "from sklearn.manifold import TSNE\n",
    "import matplotlib.pyplot as plt\n",
    "import plotly.express as px\n",
    "from sklearn.metrics.pairwise import cosine_similarity \n",
    "\n",
    "from gensim.test.utils import common_texts\n",
    "from gensim.models import Word2Vec\n",
    "from gensim.utils import tokenize\n",
    "from gensim.similarities.annoy import AnnoyIndexer\n",
    "from gensim.similarities import Similarity\n",
    "from annoy import AnnoyIndex\n",
    "import random\n",
    "import time\n",
    "import re, string\n",
    "from collections import Counter\n",
    "\n",
    "import nltk\n",
    "nltk.download('stopwords')\n",
    "from collections import defaultdict\n",
    "import nltk\n",
    "import spacy\n",
    "from nltk.corpus import stopwords\n",
    "STOPWORDS = set(stopwords.words('english'))\n",
    "\n",
    "import tempfile\n",
    "import os\n",
    "import matplotlib.cm as cm\n",
    "import matplotlib.patheffects as PathEffects\n",
    "import imageio\n",
    "import shutil\n",
    "from IPython.display import Image"
   ]
  },
  {
   "cell_type": "markdown",
   "id": "c7232101",
   "metadata": {},
   "source": [
    "### Datasets"
   ]
  },
  {
   "cell_type": "code",
   "execution_count": 147,
   "id": "a816d877",
   "metadata": {},
   "outputs": [],
   "source": [
    "df_products = pd.read_csv('products.csv')\n",
    "\n",
    "with np.load('simplified-recipes-1M.npz', allow_pickle=True) as data:\n",
    "    recipes = data['recipes']\n",
    "    ingredients = data['ingredients']"
   ]
  },
  {
   "cell_type": "markdown",
   "id": "e4a91dd3",
   "metadata": {},
   "source": [
    "<a id=\"ch1\"></a>\n",
    "# Chapter 1 - Obtain a retail database that contains information with a relationship between users products and orders."
   ]
  },
  {
   "cell_type": "markdown",
   "id": "153cbfbe",
   "metadata": {},
   "source": [
    "## Dataset - simplified-recipes-1M \n",
    "### Description\n",
    "This recipe-ingredient dataset contains about **1,000,000 carefully cleaned and preprocessed recipes**. The underlying data comes from five different base datasets  which were merged in order to create a more complete recipe collection. The main contribution here is that all recipes have been meticulously cleaned and standardized.<br>\n",
    "\n",
    "### Source\n",
    "\n",
    "http://dominikschmidt.xyz/simplified-recipes-1M/\n",
    "\n",
    "Dataset Sources:\n",
    "-   **Recipe1M+**\n",
    "    Marin, Javier, et al. [“Recipe1M+](http://pic2recipe.csail.mit.edu/) <br>\n",
    "    A Dataset for Learning Cross-Modal Embeddings for Cooking Recipes and Food Images.” IEEE Transactions on Pattern Analysis and Machine Intelligence, 2019, pp. 1–1. DOI.org (Crossref), doi:10.1109/TPAMI.2019.2927476.\n",
    "\n",
    "-   **Epicurious** - [Recipes with Rating and Nutrition](https://www.kaggle.com/datasets/hugodarwood/epirecipes) <br>\n",
    "    Recipes with Rating and Nutrition\n",
    "\n",
    "-   **Yummly** - [Recipe Ingredients Dataset](https://www.kaggle.com/datasets/kaggle/recipe-ingredients-dataset)<br>\n",
    "    Recipe Ingredients Dataset\n",
    "\n",
    "-   **Datafinity** - [Food Ingredient Lists](https://www.kaggle.com/datasets/datafiniti/food-ingredient-lists)<br>\n",
    "    Food Ingredient Lists\n",
    "\n",
    "-   **Eight Portions** - [Recipe Box](https://eightportions.com/datasets/Recipes/)<br>\n",
    "    Recipe Box\n"
   ]
  },
  {
   "cell_type": "markdown",
   "id": "e15831c5",
   "metadata": {},
   "source": [
    "### INGREDIENTS/PRODUCTS"
   ]
  },
  {
   "cell_type": "code",
   "execution_count": 208,
   "id": "0d87bdfb",
   "metadata": {
    "scrolled": true
   },
   "outputs": [
    {
     "data": {
      "text/plain": [
       "array(['salt', 'pepper', 'butter', ..., 'watercress leaves',\n",
       "       'emerils essence', 'corn flakes cereal'], dtype='<U39')"
      ]
     },
     "execution_count": 208,
     "metadata": {},
     "output_type": "execute_result"
    }
   ],
   "source": [
    "ingredients"
   ]
  },
  {
   "cell_type": "code",
   "execution_count": 223,
   "id": "34c3c666",
   "metadata": {},
   "outputs": [
    {
     "data": {
      "text/html": [
       "<div>\n",
       "<style scoped>\n",
       "    .dataframe tbody tr th:only-of-type {\n",
       "        vertical-align: middle;\n",
       "    }\n",
       "\n",
       "    .dataframe tbody tr th {\n",
       "        vertical-align: top;\n",
       "    }\n",
       "\n",
       "    .dataframe thead th {\n",
       "        text-align: right;\n",
       "    }\n",
       "</style>\n",
       "<table border=\"1\" class=\"dataframe\">\n",
       "  <thead>\n",
       "    <tr style=\"text-align: right;\">\n",
       "      <th></th>\n",
       "      <th>product_name</th>\n",
       "      <th>source</th>\n",
       "      <th>product_name_tokenize</th>\n",
       "    </tr>\n",
       "  </thead>\n",
       "  <tbody>\n",
       "    <tr>\n",
       "      <th>0</th>\n",
       "      <td>salt</td>\n",
       "      <td>recipes</td>\n",
       "      <td>[salt]</td>\n",
       "    </tr>\n",
       "    <tr>\n",
       "      <th>1</th>\n",
       "      <td>pepper</td>\n",
       "      <td>recipes</td>\n",
       "      <td>[pepper]</td>\n",
       "    </tr>\n",
       "    <tr>\n",
       "      <th>2</th>\n",
       "      <td>butter</td>\n",
       "      <td>recipes</td>\n",
       "      <td>[butter]</td>\n",
       "    </tr>\n",
       "    <tr>\n",
       "      <th>3</th>\n",
       "      <td>garlic</td>\n",
       "      <td>recipes</td>\n",
       "      <td>[garlic]</td>\n",
       "    </tr>\n",
       "    <tr>\n",
       "      <th>4</th>\n",
       "      <td>sugar</td>\n",
       "      <td>recipes</td>\n",
       "      <td>[sugar]</td>\n",
       "    </tr>\n",
       "    <tr>\n",
       "      <th>...</th>\n",
       "      <td>...</td>\n",
       "      <td>...</td>\n",
       "      <td>...</td>\n",
       "    </tr>\n",
       "    <tr>\n",
       "      <th>3495</th>\n",
       "      <td>poblano chilies</td>\n",
       "      <td>recipes</td>\n",
       "      <td>[poblano, chilies]</td>\n",
       "    </tr>\n",
       "    <tr>\n",
       "      <th>3496</th>\n",
       "      <td>crystal hot sauce</td>\n",
       "      <td>recipes</td>\n",
       "      <td>[crystal, hot, sauce]</td>\n",
       "    </tr>\n",
       "    <tr>\n",
       "      <th>3497</th>\n",
       "      <td>watercress leaves</td>\n",
       "      <td>recipes</td>\n",
       "      <td>[watercress, leaves]</td>\n",
       "    </tr>\n",
       "    <tr>\n",
       "      <th>3498</th>\n",
       "      <td>emerils essence</td>\n",
       "      <td>recipes</td>\n",
       "      <td>[emerils, essence]</td>\n",
       "    </tr>\n",
       "    <tr>\n",
       "      <th>3499</th>\n",
       "      <td>corn flakes cereal</td>\n",
       "      <td>recipes</td>\n",
       "      <td>[corn, flakes, cereal]</td>\n",
       "    </tr>\n",
       "  </tbody>\n",
       "</table>\n",
       "<p>3500 rows × 3 columns</p>\n",
       "</div>"
      ],
      "text/plain": [
       "            product_name   source   product_name_tokenize\n",
       "0                   salt  recipes                  [salt]\n",
       "1                 pepper  recipes                [pepper]\n",
       "2                 butter  recipes                [butter]\n",
       "3                 garlic  recipes                [garlic]\n",
       "4                  sugar  recipes                 [sugar]\n",
       "...                  ...      ...                     ...\n",
       "3495     poblano chilies  recipes      [poblano, chilies]\n",
       "3496   crystal hot sauce  recipes   [crystal, hot, sauce]\n",
       "3497   watercress leaves  recipes    [watercress, leaves]\n",
       "3498     emerils essence  recipes      [emerils, essence]\n",
       "3499  corn flakes cereal  recipes  [corn, flakes, cereal]\n",
       "\n",
       "[3500 rows x 3 columns]"
      ]
     },
     "execution_count": 223,
     "metadata": {},
     "output_type": "execute_result"
    }
   ],
   "source": [
    "#Including it as a Dataframe\n",
    "df_1M_products = pd.DataFrame(ingredients)\n",
    "#Renaming the column\n",
    "df_1M_products.rename(columns = {0:'product_name'}, inplace = True)\n",
    "#Creating the source column\n",
    "df_1M_products['source'] = 'recipes'\n",
    "# Split products into terms: Tokenize.\n",
    "df_1M_products['product_name_tokenize'] = df_1M_products['product_name'].str.split()\n",
    "df_1M_products"
   ]
  },
  {
   "cell_type": "markdown",
   "id": "54939a69",
   "metadata": {},
   "source": [
    "### COOKING RECIPES"
   ]
  },
  {
   "cell_type": "code",
   "execution_count": 149,
   "id": "cee0b9cb",
   "metadata": {
    "scrolled": true
   },
   "outputs": [
    {
     "data": {
      "text/plain": [
       "array(['black pepper', 'coarse sea salt', 'fresh lemon',\n",
       "       'fresh lemon juice', 'ground', 'ground black pepper', 'lemon',\n",
       "       'lemon juice', 'lime', 'lime peel', 'mayonaise', 'pepper',\n",
       "       'sea salt', 'shallots', 'sherry wine', 'sherry wine vinegar',\n",
       "       'vinegar', 'wine vinegar'], dtype='<U39')"
      ]
     },
     "execution_count": 149,
     "metadata": {},
     "output_type": "execute_result"
    }
   ],
   "source": [
    "ingredients[recipes[4]]"
   ]
  },
  {
   "cell_type": "code",
   "execution_count": 165,
   "id": "554b52fa",
   "metadata": {
    "scrolled": true
   },
   "outputs": [],
   "source": [
    "#We have notice that there is a discrepancy on recipe 727892, so we deleted.\n",
    "recipy = np.delete(recipes, 727892)\n",
    "#Collecting the ingredients into the recipes.\n",
    "recipes_words = list()\n",
    "i = 0\n",
    "for ingredient in recipy:\n",
    "    cooking = ingredients[recipy[i]]\n",
    "    recipes_words.append(cooking)\n",
    "    i +=1 "
   ]
  },
  {
   "cell_type": "code",
   "execution_count": 184,
   "id": "bddbec6d",
   "metadata": {},
   "outputs": [],
   "source": [
    "#Including it as a Dataframe\n",
    "df_recipes = pd.DataFrame({0: recipes_words})"
   ]
  },
  {
   "cell_type": "code",
   "execution_count": 247,
   "id": "f3d02316",
   "metadata": {},
   "outputs": [
    {
     "data": {
      "text/html": [
       "<div>\n",
       "<style scoped>\n",
       "    .dataframe tbody tr th:only-of-type {\n",
       "        vertical-align: middle;\n",
       "    }\n",
       "\n",
       "    .dataframe tbody tr th {\n",
       "        vertical-align: top;\n",
       "    }\n",
       "\n",
       "    .dataframe thead th {\n",
       "        text-align: right;\n",
       "    }\n",
       "</style>\n",
       "<table border=\"1\" class=\"dataframe\">\n",
       "  <thead>\n",
       "    <tr style=\"text-align: right;\">\n",
       "      <th></th>\n",
       "      <th>product_name</th>\n",
       "      <th>source</th>\n",
       "    </tr>\n",
       "  </thead>\n",
       "  <tbody>\n",
       "    <tr>\n",
       "      <th>0</th>\n",
       "      <td>[basil leaves, focaccia, leaves, mozzarella, p...</td>\n",
       "      <td>recipes</td>\n",
       "    </tr>\n",
       "    <tr>\n",
       "      <th>1</th>\n",
       "      <td>[balsamic vinegar, boiling water, butter, cook...</td>\n",
       "      <td>recipes</td>\n",
       "    </tr>\n",
       "    <tr>\n",
       "      <th>2</th>\n",
       "      <td>[bottle, bouillon, carrots, celery, chicken bo...</td>\n",
       "      <td>recipes</td>\n",
       "    </tr>\n",
       "    <tr>\n",
       "      <th>3</th>\n",
       "      <td>[grand marnier, kahlua]</td>\n",
       "      <td>recipes</td>\n",
       "    </tr>\n",
       "    <tr>\n",
       "      <th>4</th>\n",
       "      <td>[black pepper, coarse sea salt, fresh lemon, f...</td>\n",
       "      <td>recipes</td>\n",
       "    </tr>\n",
       "    <tr>\n",
       "      <th>...</th>\n",
       "      <td>...</td>\n",
       "      <td>...</td>\n",
       "    </tr>\n",
       "    <tr>\n",
       "      <th>1067551</th>\n",
       "      <td>[butter, coconut, deep dish pie crust, eggs, f...</td>\n",
       "      <td>recipes</td>\n",
       "    </tr>\n",
       "    <tr>\n",
       "      <th>1067552</th>\n",
       "      <td>[brown sugar, butter, flour, nectarines, oats,...</td>\n",
       "      <td>recipes</td>\n",
       "    </tr>\n",
       "    <tr>\n",
       "      <th>1067553</th>\n",
       "      <td>[basil, buttermilk, buttermilk biscuits, fat f...</td>\n",
       "      <td>recipes</td>\n",
       "    </tr>\n",
       "    <tr>\n",
       "      <th>1067554</th>\n",
       "      <td>[brown sugar, butter, liquid, potatoes, salt, ...</td>\n",
       "      <td>recipes</td>\n",
       "    </tr>\n",
       "    <tr>\n",
       "      <th>1067555</th>\n",
       "      <td>[basil, bay leaves, boneless, butter, canned c...</td>\n",
       "      <td>recipes</td>\n",
       "    </tr>\n",
       "  </tbody>\n",
       "</table>\n",
       "<p>1067556 rows × 2 columns</p>\n",
       "</div>"
      ],
      "text/plain": [
       "                                              product_name   source\n",
       "0        [basil leaves, focaccia, leaves, mozzarella, p...  recipes\n",
       "1        [balsamic vinegar, boiling water, butter, cook...  recipes\n",
       "2        [bottle, bouillon, carrots, celery, chicken bo...  recipes\n",
       "3                                  [grand marnier, kahlua]  recipes\n",
       "4        [black pepper, coarse sea salt, fresh lemon, f...  recipes\n",
       "...                                                    ...      ...\n",
       "1067551  [butter, coconut, deep dish pie crust, eggs, f...  recipes\n",
       "1067552  [brown sugar, butter, flour, nectarines, oats,...  recipes\n",
       "1067553  [basil, buttermilk, buttermilk biscuits, fat f...  recipes\n",
       "1067554  [brown sugar, butter, liquid, potatoes, salt, ...  recipes\n",
       "1067555  [basil, bay leaves, boneless, butter, canned c...  recipes\n",
       "\n",
       "[1067556 rows x 2 columns]"
      ]
     },
     "execution_count": 247,
     "metadata": {},
     "output_type": "execute_result"
    }
   ],
   "source": [
    "#Renaming the column\n",
    "df_recipes.rename(columns = {0:'recipe_name'}, inplace = True)\n",
    "#Creating the source column\n",
    "df_recipes['source'] = 'recipes'\n",
    "df_recipes"
   ]
  },
  {
   "cell_type": "markdown",
   "id": "1fb49310",
   "metadata": {},
   "source": [
    "<a id=\"ch2\"></a>\n",
    "# Chapter 2- Obtain a database of recipes that contains each recipe with a list of products."
   ]
  },
  {
   "cell_type": "markdown",
   "id": "85edd29e",
   "metadata": {},
   "source": [
    "## Dataset - Instacart\n",
    "### Description\n",
    "`orders` (3.4m rows, 206k users):\n",
    "* `order_id`: order identifier\n",
    "* `user_id`: customer identifier\n",
    "* `eval_set`: which evaluation set this order belongs in (see `SET` described below)\n",
    "* `order_number`: the order sequence number for this user (1 = first, n = nth)\n",
    "* `order_dow`: the day of the week the order was placed on\n",
    "* `order_hour_of_day`: the hour of the day the order was placed on\n",
    "* `days_since_prior`: days since the last order, capped at 30 (with NAs for `order_number` = 1)\n",
    "\n",
    "`products` (50k rows):\n",
    "* `product_id`: product identifier\n",
    "* `product_name`: name of the product\n",
    "* `aisle_id`: foreign key\n",
    "* `department_id`: foreign key\n",
    "\n",
    "`aisles` (134 rows):\n",
    "* `aisle_id`: aisle identifier\n",
    "* `aisle`: the name of the aisle\n",
    "\n",
    "`deptartments` (21 rows):\n",
    "* `department_id`: department identifier\n",
    "* `department`: the name of the department\n",
    "\n",
    "`order_products__SET` (30m+ rows):\n",
    "* `order_id`: foreign key\n",
    "* `product_id`: foreign key\n",
    "* `add_to_cart_order`: order in which each product was added to cart\n",
    "* `reordered`: 1 if this product has been ordered by this user in the past, 0 otherwise\n",
    "\n",
    "where `SET` is one of the four following evaluation sets (`eval_set` in `orders`):\n",
    "* `\"prior\"`: orders prior to that users most recent order (~3.2m orders)\n",
    "* `\"train\"`: training data supplied to participants (~131k orders)\n",
    "* `\"test\"`: test data reserved for machine learning competitions (~75k orders)\n",
    "\n",
    "\n",
    "### Source\n",
    "\n",
    "Kaggle Competition: https://www.kaggle.com/competitions/instacart-market-basket-analysis/data\n",
    "\n"
   ]
  },
  {
   "cell_type": "markdown",
   "id": "9d731d82",
   "metadata": {},
   "source": [
    "## Prepare and structure the data to be useable by the word2vec algorithm"
   ]
  },
  {
   "cell_type": "code",
   "execution_count": 224,
   "id": "4d8e3d98",
   "metadata": {},
   "outputs": [],
   "source": [
    "def clean_text(text):\n",
    "    '''Make text lowercase, remove text in square brackets, remove punctuation and remove words containing numbers.'''\n",
    "    # Make everything lowercase.\n",
    "    text = text.lower()\n",
    "    # Clean special characters.\n",
    "    text = text.replace('\\W', ' ')\n",
    "    #Remove text in square brackets\n",
    "    text = re.sub(r'\\[.*?\\]', '', text)\n",
    "    #Remove symbol ®\n",
    "    text = re.sub(r'®','',text)\n",
    "    #Remove punctuation\n",
    "    text = re.sub(r'[%s]' % re.escape(string.punctuation), '', text)\n",
    "    #remove words containing numbers\n",
    "    text = re.sub(r'\\w*\\d\\w*', '', text)\n",
    "    # Remove a sentence if it is only one word long\n",
    "    if len(text) > 2:\n",
    "        return ' '.join(word for word in text.split() if word not in STOPWORDS)"
   ]
  },
  {
   "cell_type": "code",
   "execution_count": 225,
   "id": "ce49b9be",
   "metadata": {},
   "outputs": [],
   "source": [
    "#Apply clean_text\n",
    "df_clean = pd.DataFrame(df_products.product_name.apply(lambda x: clean_text(x)))"
   ]
  },
  {
   "cell_type": "code",
   "execution_count": 226,
   "id": "1bf327f9",
   "metadata": {},
   "outputs": [
    {
     "data": {
      "text/plain": [
       "product_name    6\n",
       "dtype: int64"
      ]
     },
     "execution_count": 226,
     "metadata": {},
     "output_type": "execute_result"
    }
   ],
   "source": [
    "#Checking missings\n",
    "missing_values = df_clean.isnull().sum().sort_values(ascending=False)\n",
    "missing_values"
   ]
  },
  {
   "cell_type": "code",
   "execution_count": 227,
   "id": "74a21a8d",
   "metadata": {},
   "outputs": [],
   "source": [
    "#Change col name\n",
    "df_clean = df_clean.rename(columns = {'product_name':'prod_name_new'})"
   ]
  },
  {
   "cell_type": "code",
   "execution_count": 228,
   "id": "8c7620e0",
   "metadata": {},
   "outputs": [],
   "source": [
    "#Change col name\n",
    "df_clean = df_clean.rename(columns = {'product_name':'prod_name_new'})"
   ]
  },
  {
   "cell_type": "code",
   "execution_count": 229,
   "id": "c0638ae8",
   "metadata": {},
   "outputs": [
    {
     "data": {
      "text/html": [
       "<div>\n",
       "<style scoped>\n",
       "    .dataframe tbody tr th:only-of-type {\n",
       "        vertical-align: middle;\n",
       "    }\n",
       "\n",
       "    .dataframe tbody tr th {\n",
       "        vertical-align: top;\n",
       "    }\n",
       "\n",
       "    .dataframe thead th {\n",
       "        text-align: right;\n",
       "    }\n",
       "</style>\n",
       "<table border=\"1\" class=\"dataframe\">\n",
       "  <thead>\n",
       "    <tr style=\"text-align: right;\">\n",
       "      <th></th>\n",
       "      <th>prod_name_new</th>\n",
       "    </tr>\n",
       "  </thead>\n",
       "  <tbody>\n",
       "    <tr>\n",
       "      <th>0</th>\n",
       "      <td>chocolate sandwich cookies</td>\n",
       "    </tr>\n",
       "    <tr>\n",
       "      <th>1</th>\n",
       "      <td>allseasons salt</td>\n",
       "    </tr>\n",
       "    <tr>\n",
       "      <th>2</th>\n",
       "      <td>robust golden unsweetened oolong tea</td>\n",
       "    </tr>\n",
       "    <tr>\n",
       "      <th>3</th>\n",
       "      <td>smart ones classic favorites mini rigatoni vod...</td>\n",
       "    </tr>\n",
       "    <tr>\n",
       "      <th>4</th>\n",
       "      <td>green chile anytime sauce</td>\n",
       "    </tr>\n",
       "    <tr>\n",
       "      <th>...</th>\n",
       "      <td>...</td>\n",
       "    </tr>\n",
       "    <tr>\n",
       "      <th>49683</th>\n",
       "      <td>vodka triple distilled twist vanilla</td>\n",
       "    </tr>\n",
       "    <tr>\n",
       "      <th>49684</th>\n",
       "      <td>en croute roast hazelnut cranberry</td>\n",
       "    </tr>\n",
       "    <tr>\n",
       "      <th>49685</th>\n",
       "      <td>artisan baguette</td>\n",
       "    </tr>\n",
       "    <tr>\n",
       "      <th>49686</th>\n",
       "      <td>smartblend healthy metabolism dry cat food</td>\n",
       "    </tr>\n",
       "    <tr>\n",
       "      <th>49687</th>\n",
       "      <td>fresh foaming cleanser</td>\n",
       "    </tr>\n",
       "  </tbody>\n",
       "</table>\n",
       "<p>49688 rows × 1 columns</p>\n",
       "</div>"
      ],
      "text/plain": [
       "                                           prod_name_new\n",
       "0                             chocolate sandwich cookies\n",
       "1                                        allseasons salt\n",
       "2                   robust golden unsweetened oolong tea\n",
       "3      smart ones classic favorites mini rigatoni vod...\n",
       "4                              green chile anytime sauce\n",
       "...                                                  ...\n",
       "49683               vodka triple distilled twist vanilla\n",
       "49684                 en croute roast hazelnut cranberry\n",
       "49685                                   artisan baguette\n",
       "49686         smartblend healthy metabolism dry cat food\n",
       "49687                             fresh foaming cleanser\n",
       "\n",
       "[49688 rows x 1 columns]"
      ]
     },
     "execution_count": 229,
     "metadata": {},
     "output_type": "execute_result"
    }
   ],
   "source": [
    "df_clean"
   ]
  },
  {
   "cell_type": "code",
   "execution_count": 230,
   "id": "8e399e0a",
   "metadata": {},
   "outputs": [],
   "source": [
    "#Transform product_name from object to string type for lemmatization\n",
    "df_clean['prod_name_new'] = df_clean['prod_name_new'].astype('str')"
   ]
  },
  {
   "cell_type": "code",
   "execution_count": 231,
   "id": "149dd267",
   "metadata": {},
   "outputs": [],
   "source": [
    "nlp = spacy.load('en_core_web_sm', disable=['ner', 'parser']) # disabling Named Entity Recognition for speed\n",
    "\n",
    "def lemmatizer(text):        \n",
    "    sent = []\n",
    "    Doc = nlp(text)\n",
    "    for word in Doc:\n",
    "        sent.append(word.lemma_)\n",
    "    return \" \".join(sent)\n",
    "\n",
    "df_clean[\"text_lemmatize\"] =  df_clean.apply(lambda x: lemmatizer(x['prod_name_new']), axis=1)"
   ]
  },
  {
   "cell_type": "code",
   "execution_count": 232,
   "id": "3d7e4efe",
   "metadata": {},
   "outputs": [],
   "source": [
    "#Remove -PRON- type as it is not adding value but complexity into the model\n",
    "df_clean['text_lemmatize_clean'] = df_clean['text_lemmatize'].str.replace('-PRON-', '')"
   ]
  },
  {
   "cell_type": "code",
   "execution_count": 233,
   "id": "0f9b05ea",
   "metadata": {},
   "outputs": [],
   "source": [
    "# Split products into terms: Tokenize.\n",
    "df_clean['product_name_tokenize'] = df_clean['text_lemmatize'].str.split()"
   ]
  },
  {
   "cell_type": "code",
   "execution_count": 235,
   "id": "9e741d98",
   "metadata": {},
   "outputs": [],
   "source": [
    "df_instacart = pd.DataFrame(df_clean[['text_lemmatize_clean','product_name_tokenize']])\n",
    "df_instacart.rename(columns = {'text_lemmatize_clean':'product_name'}, inplace = True)"
   ]
  },
  {
   "cell_type": "code",
   "execution_count": 236,
   "id": "5c60c53d",
   "metadata": {},
   "outputs": [],
   "source": [
    "df_instacart['source'] = 'instacart'"
   ]
  },
  {
   "cell_type": "code",
   "execution_count": 237,
   "id": "7252b1c4",
   "metadata": {
    "scrolled": true
   },
   "outputs": [
    {
     "data": {
      "text/html": [
       "<div>\n",
       "<style scoped>\n",
       "    .dataframe tbody tr th:only-of-type {\n",
       "        vertical-align: middle;\n",
       "    }\n",
       "\n",
       "    .dataframe tbody tr th {\n",
       "        vertical-align: top;\n",
       "    }\n",
       "\n",
       "    .dataframe thead th {\n",
       "        text-align: right;\n",
       "    }\n",
       "</style>\n",
       "<table border=\"1\" class=\"dataframe\">\n",
       "  <thead>\n",
       "    <tr style=\"text-align: right;\">\n",
       "      <th></th>\n",
       "      <th>product_name</th>\n",
       "      <th>product_name_tokenize</th>\n",
       "      <th>source</th>\n",
       "    </tr>\n",
       "  </thead>\n",
       "  <tbody>\n",
       "    <tr>\n",
       "      <th>0</th>\n",
       "      <td>chocolate sandwich cookie</td>\n",
       "      <td>[chocolate, sandwich, cookie]</td>\n",
       "      <td>instacart</td>\n",
       "    </tr>\n",
       "    <tr>\n",
       "      <th>1</th>\n",
       "      <td>allseason salt</td>\n",
       "      <td>[allseason, salt]</td>\n",
       "      <td>instacart</td>\n",
       "    </tr>\n",
       "    <tr>\n",
       "      <th>2</th>\n",
       "      <td>robust golden unsweetene oolong tea</td>\n",
       "      <td>[robust, golden, unsweetene, oolong, tea]</td>\n",
       "      <td>instacart</td>\n",
       "    </tr>\n",
       "    <tr>\n",
       "      <th>3</th>\n",
       "      <td>smart one classic favorite mini rigatoni vodka...</td>\n",
       "      <td>[smart, one, classic, favorite, mini, rigatoni...</td>\n",
       "      <td>instacart</td>\n",
       "    </tr>\n",
       "    <tr>\n",
       "      <th>4</th>\n",
       "      <td>green chile anytime sauce</td>\n",
       "      <td>[green, chile, anytime, sauce]</td>\n",
       "      <td>instacart</td>\n",
       "    </tr>\n",
       "    <tr>\n",
       "      <th>...</th>\n",
       "      <td>...</td>\n",
       "      <td>...</td>\n",
       "      <td>...</td>\n",
       "    </tr>\n",
       "    <tr>\n",
       "      <th>49683</th>\n",
       "      <td>vodka triple distil twist vanilla</td>\n",
       "      <td>[vodka, triple, distil, twist, vanilla]</td>\n",
       "      <td>instacart</td>\n",
       "    </tr>\n",
       "    <tr>\n",
       "      <th>49684</th>\n",
       "      <td>en croute roast hazelnut cranberry</td>\n",
       "      <td>[en, croute, roast, hazelnut, cranberry]</td>\n",
       "      <td>instacart</td>\n",
       "    </tr>\n",
       "    <tr>\n",
       "      <th>49685</th>\n",
       "      <td>artisan baguette</td>\n",
       "      <td>[artisan, baguette]</td>\n",
       "      <td>instacart</td>\n",
       "    </tr>\n",
       "    <tr>\n",
       "      <th>49686</th>\n",
       "      <td>smartblend healthy metabolism dry cat food</td>\n",
       "      <td>[smartblend, healthy, metabolism, dry, cat, food]</td>\n",
       "      <td>instacart</td>\n",
       "    </tr>\n",
       "    <tr>\n",
       "      <th>49687</th>\n",
       "      <td>fresh foaming cleanser</td>\n",
       "      <td>[fresh, foaming, cleanser]</td>\n",
       "      <td>instacart</td>\n",
       "    </tr>\n",
       "  </tbody>\n",
       "</table>\n",
       "<p>49688 rows × 3 columns</p>\n",
       "</div>"
      ],
      "text/plain": [
       "                                            product_name  \\\n",
       "0                              chocolate sandwich cookie   \n",
       "1                                         allseason salt   \n",
       "2                    robust golden unsweetene oolong tea   \n",
       "3      smart one classic favorite mini rigatoni vodka...   \n",
       "4                              green chile anytime sauce   \n",
       "...                                                  ...   \n",
       "49683                  vodka triple distil twist vanilla   \n",
       "49684                 en croute roast hazelnut cranberry   \n",
       "49685                                   artisan baguette   \n",
       "49686         smartblend healthy metabolism dry cat food   \n",
       "49687                             fresh foaming cleanser   \n",
       "\n",
       "                                   product_name_tokenize     source  \n",
       "0                          [chocolate, sandwich, cookie]  instacart  \n",
       "1                                      [allseason, salt]  instacart  \n",
       "2              [robust, golden, unsweetene, oolong, tea]  instacart  \n",
       "3      [smart, one, classic, favorite, mini, rigatoni...  instacart  \n",
       "4                         [green, chile, anytime, sauce]  instacart  \n",
       "...                                                  ...        ...  \n",
       "49683            [vodka, triple, distil, twist, vanilla]  instacart  \n",
       "49684           [en, croute, roast, hazelnut, cranberry]  instacart  \n",
       "49685                                [artisan, baguette]  instacart  \n",
       "49686  [smartblend, healthy, metabolism, dry, cat, food]  instacart  \n",
       "49687                         [fresh, foaming, cleanser]  instacart  \n",
       "\n",
       "[49688 rows x 3 columns]"
      ]
     },
     "execution_count": 237,
     "metadata": {},
     "output_type": "execute_result"
    }
   ],
   "source": [
    "df_instacart"
   ]
  },
  {
   "cell_type": "markdown",
   "id": "68c53da8",
   "metadata": {},
   "source": [
    "<a id=\"ch3\"></a>\n",
    "# Chapter 3 - Use products from both databases and put them into a single list."
   ]
  },
  {
   "cell_type": "code",
   "execution_count": 238,
   "id": "abc10019",
   "metadata": {},
   "outputs": [],
   "source": [
    "frames = [df_1M_products, df_instacart]\n",
    "\n",
    "total_products = pd.concat(frames)"
   ]
  },
  {
   "cell_type": "code",
   "execution_count": 239,
   "id": "5fe6b9a5",
   "metadata": {},
   "outputs": [
    {
     "data": {
      "text/html": [
       "<div>\n",
       "<style scoped>\n",
       "    .dataframe tbody tr th:only-of-type {\n",
       "        vertical-align: middle;\n",
       "    }\n",
       "\n",
       "    .dataframe tbody tr th {\n",
       "        vertical-align: top;\n",
       "    }\n",
       "\n",
       "    .dataframe thead th {\n",
       "        text-align: right;\n",
       "    }\n",
       "</style>\n",
       "<table border=\"1\" class=\"dataframe\">\n",
       "  <thead>\n",
       "    <tr style=\"text-align: right;\">\n",
       "      <th></th>\n",
       "      <th>product_name</th>\n",
       "      <th>source</th>\n",
       "      <th>product_name_tokenize</th>\n",
       "    </tr>\n",
       "  </thead>\n",
       "  <tbody>\n",
       "    <tr>\n",
       "      <th>0</th>\n",
       "      <td>salt</td>\n",
       "      <td>recipes</td>\n",
       "      <td>[salt]</td>\n",
       "    </tr>\n",
       "    <tr>\n",
       "      <th>1</th>\n",
       "      <td>pepper</td>\n",
       "      <td>recipes</td>\n",
       "      <td>[pepper]</td>\n",
       "    </tr>\n",
       "    <tr>\n",
       "      <th>2</th>\n",
       "      <td>butter</td>\n",
       "      <td>recipes</td>\n",
       "      <td>[butter]</td>\n",
       "    </tr>\n",
       "    <tr>\n",
       "      <th>3</th>\n",
       "      <td>garlic</td>\n",
       "      <td>recipes</td>\n",
       "      <td>[garlic]</td>\n",
       "    </tr>\n",
       "    <tr>\n",
       "      <th>4</th>\n",
       "      <td>sugar</td>\n",
       "      <td>recipes</td>\n",
       "      <td>[sugar]</td>\n",
       "    </tr>\n",
       "    <tr>\n",
       "      <th>...</th>\n",
       "      <td>...</td>\n",
       "      <td>...</td>\n",
       "      <td>...</td>\n",
       "    </tr>\n",
       "    <tr>\n",
       "      <th>49683</th>\n",
       "      <td>vodka triple distil twist vanilla</td>\n",
       "      <td>instacart</td>\n",
       "      <td>[vodka, triple, distil, twist, vanilla]</td>\n",
       "    </tr>\n",
       "    <tr>\n",
       "      <th>49684</th>\n",
       "      <td>en croute roast hazelnut cranberry</td>\n",
       "      <td>instacart</td>\n",
       "      <td>[en, croute, roast, hazelnut, cranberry]</td>\n",
       "    </tr>\n",
       "    <tr>\n",
       "      <th>49685</th>\n",
       "      <td>artisan baguette</td>\n",
       "      <td>instacart</td>\n",
       "      <td>[artisan, baguette]</td>\n",
       "    </tr>\n",
       "    <tr>\n",
       "      <th>49686</th>\n",
       "      <td>smartblend healthy metabolism dry cat food</td>\n",
       "      <td>instacart</td>\n",
       "      <td>[smartblend, healthy, metabolism, dry, cat, food]</td>\n",
       "    </tr>\n",
       "    <tr>\n",
       "      <th>49687</th>\n",
       "      <td>fresh foaming cleanser</td>\n",
       "      <td>instacart</td>\n",
       "      <td>[fresh, foaming, cleanser]</td>\n",
       "    </tr>\n",
       "  </tbody>\n",
       "</table>\n",
       "<p>53188 rows × 3 columns</p>\n",
       "</div>"
      ],
      "text/plain": [
       "                                     product_name     source  \\\n",
       "0                                            salt    recipes   \n",
       "1                                          pepper    recipes   \n",
       "2                                          butter    recipes   \n",
       "3                                          garlic    recipes   \n",
       "4                                           sugar    recipes   \n",
       "...                                           ...        ...   \n",
       "49683           vodka triple distil twist vanilla  instacart   \n",
       "49684          en croute roast hazelnut cranberry  instacart   \n",
       "49685                            artisan baguette  instacart   \n",
       "49686  smartblend healthy metabolism dry cat food  instacart   \n",
       "49687                      fresh foaming cleanser  instacart   \n",
       "\n",
       "                                   product_name_tokenize  \n",
       "0                                                 [salt]  \n",
       "1                                               [pepper]  \n",
       "2                                               [butter]  \n",
       "3                                               [garlic]  \n",
       "4                                                [sugar]  \n",
       "...                                                  ...  \n",
       "49683            [vodka, triple, distil, twist, vanilla]  \n",
       "49684           [en, croute, roast, hazelnut, cranberry]  \n",
       "49685                                [artisan, baguette]  \n",
       "49686  [smartblend, healthy, metabolism, dry, cat, food]  \n",
       "49687                         [fresh, foaming, cleanser]  \n",
       "\n",
       "[53188 rows x 3 columns]"
      ]
     },
     "execution_count": 239,
     "metadata": {},
     "output_type": "execute_result"
    }
   ],
   "source": [
    "total_products"
   ]
  },
  {
   "cell_type": "markdown",
   "id": "31397961",
   "metadata": {},
   "source": [
    "<a id=\"ch4\"></a>\n",
    "# Chapter 4 - Input this list into word2vec."
   ]
  },
  {
   "cell_type": "code",
   "execution_count": 242,
   "id": "cc052873",
   "metadata": {},
   "outputs": [],
   "source": [
    "#MODEL:\n",
    "#List of Lists as input to our model.\n",
    "#Size of the Vector 20.\n",
    "#Window 5: Gensim default window size is 5 (two words before and two words after the input word.\n",
    "#Minimum number of ocurrences = 1\n",
    "\n",
    "w2vec_model = Word2Vec(list(total_products['product_name_tokenize']), vector_size=20, window=5, min_count=1, workers=4)"
   ]
  },
  {
   "cell_type": "markdown",
   "id": "0280015d",
   "metadata": {},
   "source": [
    "### WORDS VECTORS"
   ]
  },
  {
   "cell_type": "code",
   "execution_count": 243,
   "id": "bd67f0d0",
   "metadata": {
    "scrolled": false
   },
   "outputs": [
    {
     "data": {
      "text/plain": [
       "[('organic',\n",
       "  array([ 0.8227379 ,  0.85770893,  0.7821191 ,  0.94946855, -1.0111732 ,\n",
       "          0.25177354,  0.7361633 ,  1.712379  ,  0.1892081 , -1.6166791 ,\n",
       "          1.2296935 , -0.08542251,  1.1780608 , -0.1348745 ,  0.39695787,\n",
       "          0.57542956,  0.23890342,  0.41779295, -1.5441748 , -2.378866  ],\n",
       "        dtype=float32)),\n",
       " ('chocolate',\n",
       "  array([ 0.4257686 ,  0.83233166,  4.238562  ,  1.9029965 , -0.6545395 ,\n",
       "         -0.9106448 ,  0.40481508,  2.039697  , -0.6449666 , -0.46806687,\n",
       "          0.10918399, -2.1554935 ,  1.2563599 , -0.79320264, -0.6668195 ,\n",
       "         -0.36873293,  2.0192173 , -2.8527844 , -5.009957  , -2.228268  ],\n",
       "        dtype=float32))]"
      ]
     },
     "metadata": {},
     "output_type": "display_data"
    }
   ],
   "source": [
    "# Create  dictionaries to obtain word vectors\n",
    "\n",
    "#Loop the words \n",
    "word_vec = dict()\n",
    "for w in w2vec_model.wv.index_to_key:\n",
    "    word_vec[w] = w2vec_model.wv[w]\n",
    "    \n",
    "display(list(word_vec.items())[:2])"
   ]
  },
  {
   "cell_type": "markdown",
   "id": "53299292",
   "metadata": {},
   "source": [
    "<a id=\"ch5\"></a>\n",
    "# Chapter 5 - Extract vectors for each product."
   ]
  },
  {
   "cell_type": "markdown",
   "id": "30bd0e89",
   "metadata": {},
   "source": [
    "### PRODUCT VECTORS"
   ]
  },
  {
   "cell_type": "code",
   "execution_count": 244,
   "id": "a0058bf6",
   "metadata": {},
   "outputs": [],
   "source": [
    "# Create  dictionaries to obtain prod vectors\n",
    "# Loop through each word in the product name to generate the vector.\n",
    "# The vector for each product would be the average of the different words\n",
    "\n",
    "prods_w2v = dict()\n",
    "for index, row in total_products.iterrows():\n",
    "    word_vector = list()\n",
    "    #print(row['Products_mod'])\n",
    "    for word in row['product_name_tokenize']:\n",
    "        word_vector.append(word_vec[word])\n",
    "    \n",
    "    prods_w2v[row['product_name']] = np.average(word_vector, axis=0)"
   ]
  },
  {
   "cell_type": "code",
   "execution_count": 245,
   "id": "78c31c1c",
   "metadata": {
    "scrolled": false
   },
   "outputs": [
    {
     "data": {
      "text/plain": [
       "[('salt',\n",
       "  array([-0.9277114 ,  1.3709065 ,  0.7961813 , -1.4068056 , -2.5468886 ,\n",
       "          3.5155895 ,  0.54835004,  3.152282  ,  0.999399  , -1.2660598 ,\n",
       "          1.4716754 , -1.2852179 ,  1.3523791 , -0.95161647,  0.33901408,\n",
       "         -1.5528069 , -0.6865827 , -3.2860389 , -3.7523117 , -1.2448114 ],\n",
       "        dtype=float32)),\n",
       " ('pepper',\n",
       "  array([ 1.2926804 ,  0.2748337 ,  1.1499476 ,  0.84602904,  0.38453394,\n",
       "          3.2115936 , -1.1842566 ,  1.2449261 ,  2.051805  ,  0.9805605 ,\n",
       "          1.4547281 ,  1.346296  ,  3.4658117 ,  0.3665797 ,  1.1006526 ,\n",
       "          0.43127254,  0.25667349, -0.22884527, -1.8060076 , -3.160971  ],\n",
       "        dtype=float32))]"
      ]
     },
     "metadata": {},
     "output_type": "display_data"
    }
   ],
   "source": [
    "display(list(prods_w2v.items())[:2])"
   ]
  },
  {
   "cell_type": "code",
   "execution_count": 246,
   "id": "6024d219",
   "metadata": {
    "scrolled": false
   },
   "outputs": [
    {
     "data": {
      "text/html": [
       "<div>\n",
       "<style scoped>\n",
       "    .dataframe tbody tr th:only-of-type {\n",
       "        vertical-align: middle;\n",
       "    }\n",
       "\n",
       "    .dataframe tbody tr th {\n",
       "        vertical-align: top;\n",
       "    }\n",
       "\n",
       "    .dataframe thead th {\n",
       "        text-align: right;\n",
       "    }\n",
       "</style>\n",
       "<table border=\"1\" class=\"dataframe\">\n",
       "  <thead>\n",
       "    <tr style=\"text-align: right;\">\n",
       "      <th></th>\n",
       "      <th>product_name</th>\n",
       "      <th>source</th>\n",
       "      <th>product_name_tokenize</th>\n",
       "      <th>product_vector</th>\n",
       "    </tr>\n",
       "  </thead>\n",
       "  <tbody>\n",
       "    <tr>\n",
       "      <th>0</th>\n",
       "      <td>salt</td>\n",
       "      <td>recipes</td>\n",
       "      <td>[salt]</td>\n",
       "      <td>[-0.9277114, 1.3709065, 0.7961813, -1.4068056,...</td>\n",
       "    </tr>\n",
       "    <tr>\n",
       "      <th>1</th>\n",
       "      <td>salt</td>\n",
       "      <td>instacart</td>\n",
       "      <td>[salt]</td>\n",
       "      <td>[-0.9277114, 1.3709065, 0.7961813, -1.4068056,...</td>\n",
       "    </tr>\n",
       "    <tr>\n",
       "      <th>2</th>\n",
       "      <td>pepper</td>\n",
       "      <td>recipes</td>\n",
       "      <td>[pepper]</td>\n",
       "      <td>[1.2926804, 0.2748337, 1.1499476, 0.84602904, ...</td>\n",
       "    </tr>\n",
       "    <tr>\n",
       "      <th>3</th>\n",
       "      <td>pepper</td>\n",
       "      <td>instacart</td>\n",
       "      <td>[pepper]</td>\n",
       "      <td>[1.2926804, 0.2748337, 1.1499476, 0.84602904, ...</td>\n",
       "    </tr>\n",
       "    <tr>\n",
       "      <th>4</th>\n",
       "      <td>butter</td>\n",
       "      <td>recipes</td>\n",
       "      <td>[butter]</td>\n",
       "      <td>[-1.1640556, 0.42402837, 2.6274712, 1.409844, ...</td>\n",
       "    </tr>\n",
       "    <tr>\n",
       "      <th>...</th>\n",
       "      <td>...</td>\n",
       "      <td>...</td>\n",
       "      <td>...</td>\n",
       "      <td>...</td>\n",
       "    </tr>\n",
       "    <tr>\n",
       "      <th>53183</th>\n",
       "      <td>vodka triple distil twist vanilla</td>\n",
       "      <td>instacart</td>\n",
       "      <td>[vodka, triple, distil, twist, vanilla]</td>\n",
       "      <td>[-0.33344287, 0.641096, 0.78675956, 0.16579585...</td>\n",
       "    </tr>\n",
       "    <tr>\n",
       "      <th>53184</th>\n",
       "      <td>en croute roast hazelnut cranberry</td>\n",
       "      <td>instacart</td>\n",
       "      <td>[en, croute, roast, hazelnut, cranberry]</td>\n",
       "      <td>[0.09934117, 0.15263984, 1.182023, 0.6832714, ...</td>\n",
       "    </tr>\n",
       "    <tr>\n",
       "      <th>53185</th>\n",
       "      <td>artisan baguette</td>\n",
       "      <td>instacart</td>\n",
       "      <td>[artisan, baguette]</td>\n",
       "      <td>[-0.09982366, 0.40260994, 0.30901158, 0.127719...</td>\n",
       "    </tr>\n",
       "    <tr>\n",
       "      <th>53186</th>\n",
       "      <td>smartblend healthy metabolism dry cat food</td>\n",
       "      <td>instacart</td>\n",
       "      <td>[smartblend, healthy, metabolism, dry, cat, food]</td>\n",
       "      <td>[0.04900678, -0.23788376, 0.36894712, 0.932850...</td>\n",
       "    </tr>\n",
       "    <tr>\n",
       "      <th>53187</th>\n",
       "      <td>fresh foaming cleanser</td>\n",
       "      <td>instacart</td>\n",
       "      <td>[fresh, foaming, cleanser]</td>\n",
       "      <td>[-0.16908503, 0.29718977, 0.22736867, -0.74823...</td>\n",
       "    </tr>\n",
       "  </tbody>\n",
       "</table>\n",
       "<p>53188 rows × 4 columns</p>\n",
       "</div>"
      ],
      "text/plain": [
       "                                     product_name     source  \\\n",
       "0                                            salt    recipes   \n",
       "1                                            salt  instacart   \n",
       "2                                          pepper    recipes   \n",
       "3                                          pepper  instacart   \n",
       "4                                          butter    recipes   \n",
       "...                                           ...        ...   \n",
       "53183           vodka triple distil twist vanilla  instacart   \n",
       "53184          en croute roast hazelnut cranberry  instacart   \n",
       "53185                            artisan baguette  instacart   \n",
       "53186  smartblend healthy metabolism dry cat food  instacart   \n",
       "53187                      fresh foaming cleanser  instacart   \n",
       "\n",
       "                                   product_name_tokenize  \\\n",
       "0                                                 [salt]   \n",
       "1                                                 [salt]   \n",
       "2                                               [pepper]   \n",
       "3                                               [pepper]   \n",
       "4                                               [butter]   \n",
       "...                                                  ...   \n",
       "53183            [vodka, triple, distil, twist, vanilla]   \n",
       "53184           [en, croute, roast, hazelnut, cranberry]   \n",
       "53185                                [artisan, baguette]   \n",
       "53186  [smartblend, healthy, metabolism, dry, cat, food]   \n",
       "53187                         [fresh, foaming, cleanser]   \n",
       "\n",
       "                                          product_vector  \n",
       "0      [-0.9277114, 1.3709065, 0.7961813, -1.4068056,...  \n",
       "1      [-0.9277114, 1.3709065, 0.7961813, -1.4068056,...  \n",
       "2      [1.2926804, 0.2748337, 1.1499476, 0.84602904, ...  \n",
       "3      [1.2926804, 0.2748337, 1.1499476, 0.84602904, ...  \n",
       "4      [-1.1640556, 0.42402837, 2.6274712, 1.409844, ...  \n",
       "...                                                  ...  \n",
       "53183  [-0.33344287, 0.641096, 0.78675956, 0.16579585...  \n",
       "53184  [0.09934117, 0.15263984, 1.182023, 0.6832714, ...  \n",
       "53185  [-0.09982366, 0.40260994, 0.30901158, 0.127719...  \n",
       "53186  [0.04900678, -0.23788376, 0.36894712, 0.932850...  \n",
       "53187  [-0.16908503, 0.29718977, 0.22736867, -0.74823...  \n",
       "\n",
       "[53188 rows x 4 columns]"
      ]
     },
     "execution_count": 246,
     "metadata": {},
     "output_type": "execute_result"
    }
   ],
   "source": [
    "#Including product_vector inside the dataframe\n",
    "prod = pd.DataFrame(list(prods_w2v.items()),columns = ['column1','column2'])\n",
    "prod = prod.rename(columns = {'column1':'product_name'})\n",
    "prod = prod.rename(columns = {'column2':'product_vector'})\n",
    "total_products_vectors = pd.merge(total_products, prod, on=\"product_name\")\n",
    "total_products_vectors"
   ]
  }
 ],
 "metadata": {
  "kernelspec": {
   "display_name": "Python 3 (ipykernel)",
   "language": "python",
   "name": "python3"
  },
  "language_info": {
   "codemirror_mode": {
    "name": "ipython",
    "version": 3
   },
   "file_extension": ".py",
   "mimetype": "text/x-python",
   "name": "python",
   "nbconvert_exporter": "python",
   "pygments_lexer": "ipython3",
   "version": "3.8.8"
  }
 },
 "nbformat": 4,
 "nbformat_minor": 5
}
